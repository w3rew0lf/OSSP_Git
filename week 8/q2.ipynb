{
 "cells": [
  {
   "cell_type": "code",
   "execution_count": 1,
   "metadata": {},
   "outputs": [
    {
     "name": "stderr",
     "output_type": "stream",
     "text": [
      "C:\\Users\\goyal\\AppData\\Local\\Temp\\ipykernel_17896\\1008846280.py:4: DeprecationWarning: Importing display from IPython.core.display is deprecated since IPython 7.14, please import from IPython display\n",
      "  from IPython.core.display import display, HTML\n"
     ]
    },
    {
     "name": "stdout",
     "output_type": "stream",
     "text": [
      "Mongo version 4.3.3\n"
     ]
    }
   ],
   "source": [
    "import os \n",
    "import pandas as pd \n",
    "import numpy as np \n",
    "from IPython.core.display import display, HTML \n",
    "import pymongo \n",
    "from pymongo import MongoClient \n",
    "print ('Mongo version', pymongo.version) \n",
    "client = MongoClient('localhost', 27017) \n",
    "db = client.test \n",
    "collection = db.people \n"
   ]
  },
  {
   "cell_type": "code",
   "execution_count": 2,
   "metadata": {},
   "outputs": [
    {
     "data": {
      "text/plain": [
       "<pymongo.results.InsertManyResult at 0x2cea1e91de0>"
      ]
     },
     "execution_count": 2,
     "metadata": {},
     "output_type": "execute_result"
    }
   ],
   "source": [
    "record = [{ \n",
    "\"Name\": \"Maureen Skinner\", \n",
    "\"Age\": 87, \n",
    "\"Sex\": \"F\",\n",
    "\"Blood pressure\": [{\"sys\": 156}, {\"dia\": 82}], \n",
    "\"Heart rate\": 82 \n",
    "},{\"Name\": \"x Skinner\", \n",
    "\"Age\": 87, \n",
    "\"Sex\": \"F\", \n",
    "\"Blood pressure\": [{\"sys\": 156}, {\"dia\": 82}], \n",
    "\"Heart rate\": 82}, \n",
    "{\"Name\": \"y Skinner\", \n",
    "\"Age\": 87, \n",
    "\"Sex\": \"F\", \n",
    "\"Blood pressure\": [{\"sys\": 156}, {\"dia\": 82}], \n",
    "\"Heart rate\": 82} \n",
    "] \n",
    "collection.insert_many(record) \n"
   ]
  },
  {
   "cell_type": "code",
   "execution_count": 4,
   "metadata": {},
   "outputs": [
    {
     "name": "stdout",
     "output_type": "stream",
     "text": [
      "{'_id': ObjectId('637effa7ad2c872125c5db62'), 'Name': 'Maureen Skinner', 'Age': 87, 'Sex': 'F', 'Blood pressure': [{'sys': 156}, {'dia': 82}], 'Heart rate': 82}\n",
      "{'_id': ObjectId('637effa7ad2c872125c5db63'), 'Name': 'x Skinner', 'Age': 87, 'Sex': 'F', 'Blood pressure': [{'sys': 156}, {'dia': 82}], 'Heart rate': 82}\n",
      "{'_id': ObjectId('637effa7ad2c872125c5db64'), 'Name': 'y Skinner', 'Age': 87, 'Sex': 'F', 'Blood pressure': [{'sys': 156}, {'dia': 82}], 'Heart rate': 82}\n"
     ]
    }
   ],
   "source": [
    "for item in collection.find(): \n",
    "    print(item)"
   ]
  },
  {
   "cell_type": "code",
   "execution_count": 5,
   "metadata": {},
   "outputs": [
    {
     "data": {
      "text/plain": [
       "1"
      ]
     },
     "execution_count": 5,
     "metadata": {},
     "output_type": "execute_result"
    }
   ],
   "source": [
    "collection.drop()\n",
    "os.system('mongoimport -d test -c people dummyData.json')"
   ]
  },
  {
   "cell_type": "code",
   "execution_count": 6,
   "metadata": {},
   "outputs": [
    {
     "data": {
      "text/html": [
       "<div>\n",
       "<style scoped>\n",
       "    .dataframe tbody tr th:only-of-type {\n",
       "        vertical-align: middle;\n",
       "    }\n",
       "\n",
       "    .dataframe tbody tr th {\n",
       "        vertical-align: top;\n",
       "    }\n",
       "\n",
       "    .dataframe thead th {\n",
       "        text-align: right;\n",
       "    }\n",
       "</style>\n",
       "<table border=\"1\" class=\"dataframe\">\n",
       "  <thead>\n",
       "    <tr style=\"text-align: right;\">\n",
       "      <th></th>\n",
       "    </tr>\n",
       "  </thead>\n",
       "  <tbody>\n",
       "  </tbody>\n",
       "</table>\n",
       "</div>"
      ],
      "text/plain": [
       "Empty DataFrame\n",
       "Columns: []\n",
       "Index: []"
      ]
     },
     "execution_count": 6,
     "metadata": {},
     "output_type": "execute_result"
    }
   ],
   "source": [
    "pipeline = [ \n",
    "{\"$group\": {\"_id\":\"$Country\", \n",
    "\"AvgAge\":{\"$avg\":\"$Age\"}, \n",
    "\"Count\":{\"$sum\":1}, \n",
    "}}, \n",
    "{\"$sort\":{\"Count\":-1,\"AvgAge\":1}} \n",
    "] \n",
    "aggResult = collection.aggregate(pipeline) \n",
    "df1 = pd.DataFrame(list(aggResult)) \n",
    "df1.head()"
   ]
  },
  {
   "cell_type": "code",
   "execution_count": 7,
   "metadata": {},
   "outputs": [
    {
     "data": {
      "text/html": [
       "<div>\n",
       "<style scoped>\n",
       "    .dataframe tbody tr th:only-of-type {\n",
       "        vertical-align: middle;\n",
       "    }\n",
       "\n",
       "    .dataframe tbody tr th {\n",
       "        vertical-align: top;\n",
       "    }\n",
       "\n",
       "    .dataframe thead th {\n",
       "        text-align: right;\n",
       "    }\n",
       "</style>\n",
       "<table border=\"1\" class=\"dataframe\">\n",
       "  <thead>\n",
       "    <tr style=\"text-align: right;\">\n",
       "      <th></th>\n",
       "    </tr>\n",
       "  </thead>\n",
       "  <tbody>\n",
       "  </tbody>\n",
       "</table>\n",
       "</div>"
      ],
      "text/plain": [
       "Empty DataFrame\n",
       "Columns: []\n",
       "Index: []"
      ]
     },
     "execution_count": 7,
     "metadata": {},
     "output_type": "execute_result"
    }
   ],
   "source": [
    "pipeline = [ \n",
    "{\"$match\": {\"Age\":87}}, \n",
    "] \n",
    "aggResult = collection.aggregate(pipeline) \n",
    "df2 = pd.DataFrame(list(aggResult)) \n",
    "df2.head()"
   ]
  }
 ],
 "metadata": {
  "kernelspec": {
   "display_name": "Python 3.10.8 64-bit (microsoft store)",
   "language": "python",
   "name": "python3"
  },
  "language_info": {
   "codemirror_mode": {
    "name": "ipython",
    "version": 3
   },
   "file_extension": ".py",
   "mimetype": "text/x-python",
   "name": "python",
   "nbconvert_exporter": "python",
   "pygments_lexer": "ipython3",
   "version": "3.10.8"
  },
  "orig_nbformat": 4,
  "vscode": {
   "interpreter": {
    "hash": "0a82143fe0dad769d2f94af90c3e769e1979e69f969849300119b44e6cb404d4"
   }
  }
 },
 "nbformat": 4,
 "nbformat_minor": 2
}
